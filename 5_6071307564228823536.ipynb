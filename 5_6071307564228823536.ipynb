{
 "cells": [
  {
   "cell_type": "markdown",
   "id": "2af7982f",
   "metadata": {},
   "source": [
    "\n",
    "# Statistics Basics | Assignment (DS-AG-005)\n",
    "\n",
    "## Question 1: What is the difference between descriptive statistics and inferential statistics? Explain with examples.\n",
    "\n",
    "### Descriptive Statistics\n",
    "Descriptive statistics summarizes and organizes data so it can be easily understood. It works only on the data we already have and does not make any predictions.\n",
    "\n",
    "**Key Points:**\n",
    "- Deals with actual data only\n",
    "- Uses measures like: Mean, Median, Mode, Range, Standard Deviation\n",
    "- Uses charts like: Bar Chart, Histogram, Box Plot\n",
    "\n",
    "**Example:**  \n",
    "A teacher calculates the average score of 50 students in her class. She creates a bar chart to show grade distribution. This is descriptive statistics.\n",
    "\n",
    "### Inferential Statistics\n",
    "Inferential statistics helps us draw conclusions about a population based on a sample. It uses probabilities and involves some uncertainty.\n",
    "\n",
    "**Key Points:**\n",
    "- Makes predictions based on sample data\n",
    "- Uses: Hypothesis Testing, Confidence Intervals, Regression, etc.\n",
    "\n",
    "**Example:**  \n",
    "A company surveys 500 people about soft drinks, and uses this to guess the preference of the entire Indian population.\n",
    "\n",
    "### Summary Table\n",
    "\n",
    "| Feature              | Descriptive Statistics               | Inferential Statistics                |\n",
    "|----------------------|--------------------------------------|----------------------------------------|\n",
    "| Purpose              | Summarize collected data             | Predict or generalize                  |\n",
    "| Scope                | Sample only                          | Entire population                      |\n",
    "| Techniques Used      | Mean, Charts, Standard Deviation     | Hypothesis Testing, Confidence Intervals |\n",
    "| Uncertainty Involved | No                                   | Yes (uses probability)                |\n",
    "| Example              | Class average                        | National exam prediction              |\n",
    "\n",
    "**Conclusion:**  \n",
    "Use descriptive statistics to describe known data, and inferential statistics to make predictions about a larger group.\n",
    "\n",
    "---\n",
    "\n",
    "## Question 2: What is sampling in statistics? Explain the differences between random and stratified sampling.\n",
    "\n",
    "### What is Sampling?\n",
    "Sampling is the process of selecting a part of a population to represent the whole. It helps save time and resources while collecting useful data.\n",
    "\n",
    "**Key Terms:**\n",
    "- **Population** – Whole group\n",
    "- **Sample** – Small representative part\n",
    "- **Sampling Method** – How the sample is selected\n",
    "\n",
    "### Random Sampling\n",
    "Every individual has an equal chance of being selected.\n",
    "\n",
    "**Advantages:**\n",
    "- Simple and unbiased\n",
    "\n",
    "**Example:** Randomly pick 200 students out of 2000 for height data.\n",
    "\n",
    "### Stratified Sampling\n",
    "Population is divided into groups (strata), and samples are randomly chosen from each group.\n",
    "\n",
    "**Advantages:**\n",
    "- Ensures representation from all groups\n",
    "\n",
    "**Example:** For a college with 70% undergrads and 30% postgrads, select 70 undergrads and 30 postgrads from respective groups.\n",
    "\n",
    "### Difference Table\n",
    "\n",
    "| Feature                 | Random Sampling                   | Stratified Sampling                      |\n",
    "|-------------------------|-----------------------------------|-------------------------------------------|\n",
    "| Selection Method        | Entire population                 | From each group (stratum)                 |\n",
    "| Division of Population  | No                                | Yes (by characteristics)                  |\n",
    "| Equal Chance            | Yes                               | Yes, within group                         |\n",
    "| Best For                | Homogeneous populations           | Heterogeneous populations                 |\n",
    "| Missing Subgroups Risk | Higher                            | Lower                                     |\n",
    "\n",
    "**Conclusion:**  \n",
    "Random sampling is simple and fair. Stratified sampling gives more accurate results for diverse populations.\n",
    "\n",
    "---\n",
    "\n",
    "## Question 3: Define mean, median, and mode. Explain why these measures of central tendency are important.\n",
    "\n",
    "### Mean\n",
    "**Definition:** Sum of values ÷ Number of values  \n",
    "**Example:** (5+7+9+11+13) ÷ 5 = 9  \n",
    "**Use Case:** Balanced, symmetric data\n",
    "\n",
    "### Median\n",
    "**Definition:** Middle value in ordered data  \n",
    "**Example:** 4, 7, 8, 10 → Median = (7+8)/2 = 7.5  \n",
    "**Use Case:** Skewed data or data with outliers\n",
    "\n",
    "### Mode\n",
    "**Definition:** Most frequent value  \n",
    "**Example:** 2, 3, 3, 5, 6, 3, 8 → Mode = 3  \n",
    "**Use Case:** Most common category (e.g., shoe size)\n",
    "\n",
    "### Importance Table\n",
    "\n",
    "| Measure | Why It's Important |\n",
    "|---------|---------------------|\n",
    "| Mean    | Overall average     |\n",
    "| Median  | Robust to outliers  |\n",
    "| Mode    | Most common value   |\n",
    "\n",
    "**Example:**  \n",
    "Salaries: ₹20k, ₹22k, ₹21k, ₹23k, ₹1L  \n",
    "Mean = ₹37.2k, Median = ₹22k → Median is more representative.\n",
    "\n",
    "---\n",
    "\n",
    "## Question 4: Explain skewness and kurtosis. What does a positive skew imply about the data?\n",
    "\n",
    "### Skewness\n",
    "Measures symmetry.\n",
    "\n",
    "- **Positive Skew:** Right tail longer, Mean > Median > Mode  \n",
    "  (e.g., Income – few high earners raise the mean)\n",
    "\n",
    "- **Negative Skew:** Left tail longer, Mean < Median < Mode  \n",
    "  (e.g., High exam scores)\n",
    "\n",
    "- **Zero Skew:** Symmetrical\n",
    "\n",
    "### Kurtosis\n",
    "Measures how heavy/light the tails are (outlier-prone or not).\n",
    "\n",
    "- **Mesokurtic (Kurtosis = 3):** Normal distribution  \n",
    "- **Leptokurtic (> 3):** Heavy tails, more outliers  \n",
    "- **Platykurtic (< 3):** Light tails, fewer outliers\n",
    "\n",
    "### Summary Table\n",
    "\n",
    "| Term        | Description                  | Key Insight                         |\n",
    "|-------------|------------------------------|--------------------------------------|\n",
    "| Skewness    | Asymmetry of data            | Shows data lean (left/right)         |\n",
    "| Kurtosis    | Tailedness of distribution   | Shows outlier probability            |\n",
    "| Positive Skew | Right tail, Mean > Median | Few large values pulling average up  |\n",
    "\n",
    "**Conclusion:**  \n",
    "Positive skew means data is stretched to the right. Mean is pulled higher, and median gives a more accurate center.\n",
    "\n"
   ]
  },
  {
   "cell_type": "markdown",
   "id": "dcb630c7",
   "metadata": {
    "id": "Pt1v0WvexxeJ"
   },
   "source": [
    "Question 5: Implement a Python program to compute the mean, median, and mode of\n",
    "a given list of numbers.\n",
    "numbers = [12, 15, 12, 18, 19, 12, 20, 22, 19, 19, 24, 24, 24, 26, 28]\n",
    "(Include your Python code and output in the code box below.)\n",
    "Answer:\n",
    "Paste your code and output inside the box below:"
   ]
  },
  {
   "cell_type": "markdown",
   "id": "0fb7b172",
   "metadata": {
    "id": "_Nj1L9Gj2kdq"
   },
   "source": [
    "\n",
    "Given:\n",
    "numbers = [12, 15, 12, 18, 19, 12, 20, 22, 19, 19, 24, 24, 24, 26, 28]\n",
    "\n",
    "📘 Approach:\n",
    "- We will use Python's built-in `statistics` module.\n",
    "- Steps:\n",
    "   ➤ Use `mean()` to calculate the average.\n",
    "   ➤ Use `median()` to get the middle value.\n",
    "   ➤ Use `mode()` to find the most frequent value.\n",
    "- Print all three values.\n"
   ]
  },
  {
   "cell_type": "code",
   "execution_count": null,
   "id": "1e670abb",
   "metadata": {
    "colab": {
     "base_uri": "https://localhost:8080/"
    },
    "executionInfo": {
     "elapsed": 59,
     "status": "ok",
     "timestamp": 1753436200578,
     "user": {
      "displayName": "Bishwajeet Dutta",
      "userId": "16547544890305127331"
     },
     "user_tz": -330
    },
    "id": "oFp8W_b0xyVP",
    "outputId": "7b35e3ef-e521-4410-f457-b4b54461d447"
   },
   "outputs": [
    {
     "name": "stdout",
     "output_type": "stream",
     "text": [
      "Mean: 19.6\n",
      "Median: 19\n",
      "Mode: 12\n"
     ]
    }
   ],
   "source": [
    "import statistics\n",
    "\n",
    "# Given list of numbers\n",
    "numbers = [12, 15, 12, 18, 19, 12, 20, 22, 19, 19, 24, 24, 24, 26, 28]\n",
    "\n",
    "# Calculate mean\n",
    "mean_val = statistics.mean(numbers)\n",
    "\n",
    "# Calculate median\n",
    "median_val = statistics.median(numbers)\n",
    "\n",
    "# Calculate mode\n",
    "mode_val = statistics.mode(numbers)\n",
    "\n",
    "# Output\n",
    "print(\"Mean:\", mean_val)\n",
    "print(\"Median:\", median_val)\n",
    "print(\"Mode:\", mode_val)\n",
    "\n"
   ]
  },
  {
   "cell_type": "markdown",
   "id": "18d448c8",
   "metadata": {
    "id": "h1gcL2-Lx5Q2"
   },
   "source": [
    "Question 6: Compute the covariance and correlation coefficient between the following\n",
    "two datasets provided as lists in Python:\n",
    "list_x = [10, 20, 30, 40, 50]\n",
    "list_y = [15, 25, 35, 45, 60]\n",
    "(Include your Python code and output in the code box below.)\n",
    "Answer:  \n",
    "Paste your code and output inside the box below:\n"
   ]
  },
  {
   "cell_type": "markdown",
   "id": "09d11f0b",
   "metadata": {
    "id": "86p5pxa-25Mj"
   },
   "source": [
    "\n",
    "Given:\n",
    "list_x = [10, 20, 30, 40, 50]  \n",
    "list_y = [15, 25, 35, 45, 60]\n",
    "\n",
    "📘 Approach:\n",
    "- Use NumPy functions to compute:\n",
    "   ➤ `np.cov(x, y)[0][1]` for sample covariance.\n",
    "   ➤ `np.corrcoef(x, y)[0][1]` for Pearson correlation.\n",
    "- These values help determine the strength and direction of the linear relationship between the two datasets.\n",
    "\n"
   ]
  },
  {
   "cell_type": "code",
   "execution_count": null,
   "id": "38ef73ae",
   "metadata": {
    "colab": {
     "base_uri": "https://localhost:8080/"
    },
    "executionInfo": {
     "elapsed": 13,
     "status": "ok",
     "timestamp": 1753436289299,
     "user": {
      "displayName": "Bishwajeet Dutta",
      "userId": "16547544890305127331"
     },
     "user_tz": -330
    },
    "id": "HNYseuZUx7Sg",
    "outputId": "31b28ce5-bfa0-4d3e-e6fb-1ed11c559034"
   },
   "outputs": [
    {
     "name": "stdout",
     "output_type": "stream",
     "text": [
      "Covariance: 275.0\n",
      "Correlation Coefficient: 0.9959\n"
     ]
    }
   ],
   "source": [
    "import numpy as np\n",
    "\n",
    "# Given datasets\n",
    "list_x = [10, 20, 30, 40, 50]\n",
    "list_y = [15, 25, 35, 45, 60]\n",
    "\n",
    "# Calculate sample covariance\n",
    "cov_matrix = np.cov(list_x, list_y, bias=False)\n",
    "covariance = cov_matrix[0][1]\n",
    "\n",
    "# Calculate correlation coefficient\n",
    "correlation = np.corrcoef(list_x, list_y)[0][1]\n",
    "\n",
    "# Display results\n",
    "print(\"Covariance:\", covariance)\n",
    "print(\"Correlation Coefficient:\", round(correlation, 4))\n"
   ]
  },
  {
   "cell_type": "markdown",
   "id": "03bc18fd",
   "metadata": {
    "id": "lPA5JkwXyEwC"
   },
   "source": [
    "Question 7: Write a Python script to draw a boxplot for the following numeric list and\n",
    "identify its outliers. Explain the result:\n",
    "data = [12, 14, 14, 15, 18, 19, 19, 21, 22, 22, 23, 23, 24, 26, 29, 35]\n",
    "(Include your Python code and output in the code box below.)"
   ]
  },
  {
   "cell_type": "markdown",
   "id": "86a148a9",
   "metadata": {
    "id": "BJa7VD_o3IB1"
   },
   "source": [
    "\n",
    "Given:\n",
    "data = [12, 14, 14, 15, 18, 19, 19, 21, 22, 22, 23, 23, 24, 26, 29, 35]\n",
    "\n",
    "📘 Approach:\n",
    "- Use `seaborn.boxplot()` to draw the boxplot and visually detect outliers.\n",
    "- Use NumPy to compute Q1 (25th percentile), Q3 (75th percentile), and IQR.\n",
    "- Any values outside [Q1 - 1.5×IQR, Q3 + 1.5×IQR] are outliers.\n",
    "- Print those values separately.\n",
    "\n"
   ]
  },
  {
   "cell_type": "code",
   "execution_count": null,
   "id": "c2e5f128",
   "metadata": {
    "colab": {
     "base_uri": "https://localhost:8080/",
     "height": 517
    },
    "executionInfo": {
     "elapsed": 354,
     "status": "ok",
     "timestamp": 1753436355017,
     "user": {
      "displayName": "Bishwajeet Dutta",
      "userId": "16547544890305127331"
     },
     "user_tz": -330
    },
    "id": "9weg3NL8yHYA",
    "outputId": "bcff7262-24b8-4072-d8fa-383f60fbbdfd"
   },
   "outputs": [
    {
     "data": {
      "image/png": "[encoded data removed]",
      "text/plain": [
       "<Figure size 800x400 with 1 Axes>"
      ]
     },
     "metadata": {},
     "output_type": "display_data"
    },
    {
     "name": "stdout",
     "output_type": "stream",
     "text": [
      "Q1: 17.25\n",
      "Q3: 23.25\n",
      "IQR: 6.0\n",
      "Lower Bound: 8.25\n",
      "Upper Bound: 32.25\n",
      "Outliers: [35]\n"
     ]
    }
   ],
   "source": [
    "import matplotlib.pyplot as plt\n",
    "import seaborn as sns\n",
    "import numpy as np\n",
    "\n",
    "# Given data\n",
    "data = [12, 14, 14, 15, 18, 19, 19, 21, 22, 22, 23, 23, 24, 26, 29, 35]\n",
    "\n",
    "# Draw the boxplot\n",
    "plt.figure(figsize=(8, 4))\n",
    "sns.boxplot(data=data, orient='h', color='lightblue')\n",
    "plt.title(\"Boxplot of Data\")\n",
    "plt.xlabel(\"Value\")\n",
    "plt.grid(True)\n",
    "plt.show()\n",
    "\n",
    "# Identify outliers using IQR\n",
    "Q1 = np.percentile(data, 25)\n",
    "Q3 = np.percentile(data, 75)\n",
    "IQR = Q3 - Q1\n",
    "lower_bound = Q1 - 1.5 * IQR\n",
    "upper_bound = Q3 + 1.5 * IQR\n",
    "outliers = [x for x in data if x < lower_bound or x > upper_bound]\n",
    "\n",
    "# Display outlier details\n",
    "print(\"Q1:\", Q1)\n",
    "print(\"Q3:\", Q3)\n",
    "print(\"IQR:\", IQR)\n",
    "print(\"Lower Bound:\", lower_bound)\n",
    "print(\"Upper Bound:\", upper_bound)\n",
    "print(\"Outliers:\", outliers)\n"
   ]
  },
  {
   "cell_type": "markdown",
   "id": "044417a5",
   "metadata": {
    "id": "WhC4ddQ2yTPD"
   },
   "source": [
    "Question 8: You are working as a data analyst in an e-commerce company. The\n",
    "marketing team wants to know if there is a relationship between advertising spend and\n",
    "daily sales.\n",
    "● Explain how you would use covariance and correlation to explore this\n",
    "relationship.\n",
    "● Write Python code to compute the correlation between the two lists:\n",
    "advertising_spend = [200, 250, 300, 400, 500]   \n",
    "daily_sales = [2200, 2450, 2750, 3200, 4000]\n",
    "(Include your Python code and output in the code box below.)"
   ]
  },
  {
   "cell_type": "markdown",
   "id": "278c928a",
   "metadata": {
    "id": "3LO43iGQ3Vno"
   },
   "source": [
    "\n",
    "📘 Approach:\n",
    "- To explore the relationship:\n",
    "   ➤ Covariance helps us check the **direction** of the relationship (positive/negative).\n",
    "   ➤ Correlation helps us check the **strength** of the relationship on a scale of -1 to 1.\n",
    "- We use `np.cov()` for sample covariance and `np.corrcoef()` for Pearson correlation.\n",
    "\n",
    "Given:\n",
    "advertising_spend = [200, 250, 300, 400, 500]  \n",
    "daily_sales = [2200, 2450, 2750, 3200, 4000]\n"
   ]
  },
  {
   "cell_type": "code",
   "execution_count": null,
   "id": "3cd6f3fd",
   "metadata": {
    "colab": {
     "base_uri": "https://localhost:8080/"
    },
    "executionInfo": {
     "elapsed": 16,
     "status": "ok",
     "timestamp": 1753436418086,
     "user": {
      "displayName": "Bishwajeet Dutta",
      "userId": "16547544890305127331"
     },
     "user_tz": -330
    },
    "id": "1MuExKqTyVI7",
    "outputId": "98ab682a-62f0-479c-e4f4-62adaf86d34f"
   },
   "outputs": [
    {
     "name": "stdout",
     "output_type": "stream",
     "text": [
      "Covariance: 84875.0\n",
      "Correlation Coefficient: 0.9936\n"
     ]
    }
   ],
   "source": [
    "import numpy as np\n",
    "\n",
    "# Given data\n",
    "advertising_spend = [200, 250, 300, 400, 500]\n",
    "daily_sales = [2200, 2450, 2750, 3200, 4000]\n",
    "\n",
    "# Calculate sample covariance\n",
    "cov_matrix = np.cov(advertising_spend, daily_sales, bias=False)\n",
    "covariance = cov_matrix[0][1]\n",
    "\n",
    "# Calculate correlation coefficient\n",
    "correlation = np.corrcoef(advertising_spend, daily_sales)[0][1]\n",
    "\n",
    "# Display results\n",
    "print(\"Covariance:\", covariance)\n",
    "print(\"Correlation Coefficient:\", round(correlation, 4))\n",
    "\n"
   ]
  },
  {
   "cell_type": "markdown",
   "id": "4307bb96",
   "metadata": {
    "id": "NLV94s2py_Wp"
   },
   "source": [
    "Question 9: Your team has collected customer satisfaction survey data on a scale of\n",
    "1-10 and wants to understand its distribution before launching a new product.\n",
    "● Explain which summary statistics and visualizations (e.g. mean, standard\n",
    "deviation, histogram) you’d use.\n",
    "● Write Python code to create a histogram using Matplotlib for the survey data:\n",
    "survey_scores = [7, 8, 5, 9, 6, 7, 8, 9, 10, 4, 7, 6, 9, 8, 7]\n",
    "(Include your Python code and output in the code box below.)"
   ]
  },
  {
   "cell_type": "markdown",
   "id": "944fd9cc",
   "metadata": {
    "id": "tY5lQqsQ3m90"
   },
   "source": [
    "\n",
    "\n",
    "📘 Approach:\n",
    "- To understand the distribution, calculate:\n",
    "   ➤ Mean: average satisfaction level\n",
    "   ➤ Median: middle value\n",
    "   ➤ Standard Deviation: variability in responses\n",
    "- For visualization:\n",
    "   ➤ Use a histogram to display the frequency of scores.\n",
    "   ➤ This helps identify if the data is skewed, symmetric, or has peaks.\n",
    "- Data used:\n",
    "   survey_scores = [7, 8, 5, 9, 6, 7, 8, 9, 10, 4, 7, 6, 9, 8, 7]\n",
    "\n"
   ]
  },
  {
   "cell_type": "code",
   "execution_count": null,
   "id": "daa25386",
   "metadata": {
    "colab": {
     "base_uri": "https://localhost:8080/",
     "height": 541
    },
    "executionInfo": {
     "elapsed": 444,
     "status": "ok",
     "timestamp": 1753436468535,
     "user": {
      "displayName": "Bishwajeet Dutta",
      "userId": "16547544890305127331"
     },
     "user_tz": -330
    },
    "id": "XnR88538zAHE",
    "outputId": "507ea114-6210-4831-a533-8454ec742d4f"
   },
   "outputs": [
    {
     "name": "stdout",
     "output_type": "stream",
     "text": [
      "Mean: 7.33\n",
      "Median: 7.0\n",
      "Standard Deviation: 1.58\n"
     ]
    },
    {
     "data": {
      "image/png": "[encoded data removed]",
      "text/plain": [
       "<Figure size 800x500 with 1 Axes>"
      ]
     },
     "metadata": {},
     "output_type": "display_data"
    }
   ],
   "source": [
    "import numpy as np\n",
    "import matplotlib.pyplot as plt\n",
    "\n",
    "# Given data\n",
    "survey_scores = [7, 8, 5, 9, 6, 7, 8, 9, 10, 4, 7, 6, 9, 8, 7]\n",
    "\n",
    "# Summary statistics\n",
    "mean_score = np.mean(survey_scores)\n",
    "median_score = np.median(survey_scores)\n",
    "std_dev = np.std(survey_scores)\n",
    "\n",
    "# Print statistics\n",
    "print(\"Mean:\", round(mean_score, 2))\n",
    "print(\"Median:\", median_score)\n",
    "print(\"Standard Deviation:\", round(std_dev, 2))\n",
    "\n",
    "# Create histogram\n",
    "plt.figure(figsize=(8, 5))\n",
    "plt.hist(survey_scores, bins=7, color='skyblue', edgecolor='black')\n",
    "plt.title(\"Customer Satisfaction Survey Distribution\")\n",
    "plt.xlabel(\"Satisfaction Score\")\n",
    "plt.ylabel(\"Frequency\")\n",
    "plt.grid(axis='y', linestyle='--', alpha=0.7)\n",
    "plt.show()\n",
    "\n"
   ]
  }
 ],
 "metadata": {},
 "nbformat": 4,
 "nbformat_minor": 5
}
